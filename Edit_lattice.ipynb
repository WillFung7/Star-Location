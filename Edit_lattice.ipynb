{
 "cells": [
  {
   "cell_type": "code",
   "execution_count": 8,
   "id": "aae9a7b6",
   "metadata": {},
   "outputs": [],
   "source": [
    "import numpy as np\n",
    "import re\n",
    "import os"
   ]
  },
  {
   "cell_type": "code",
   "execution_count": 75,
   "id": "917f0a6e",
   "metadata": {},
   "outputs": [
    {
     "name": "stdout",
     "output_type": "stream",
     "text": [
      "1213.5546021688 bi9_dac3.5: bi9_dac3.5, at = 1213.5546021688;\n",
      " 1.0\n",
      "1217.8433921688 bi9_dac3.4: bi9_dac3.4, at = 1217.8433921688;\n",
      " 1.0\n",
      "1222.1321821688 bi9_dac3.3: bi9_dac3.3, at = 1222.1321821688;\n",
      " 1.0\n",
      "1226.4209721688 bi9_dac3.2: bi9_dac3.2, at = 1226.4209721688;\n",
      " 1.0\n",
      "1230.7097621688 bi9_dac3.1: bi9_dac3.1, at = 1230.7097621688;\n",
      " 1.0\n"
     ]
    }
   ],
   "source": [
    "#Get data from all BPMs from sdds file\n",
    "def move_to_center(line, length):\n",
    "#     print(line, length)\n",
    "    x_curr1 = float(re.findall('\\d+\\.\\d+', line)[-1])\n",
    "#     if 'dac' in line:\n",
    "#         print(x_curr1, line, length)\n",
    "    x_new = x_curr1 - length/2\n",
    "    newline = line\n",
    "    last_letter = newline[-1]\n",
    "    while last_letter != ' ':\n",
    "        newline = newline[:-1]\n",
    "        last_letter = newline[-1]\n",
    "    newline += str(x_new) + ';\\n'\n",
    "#             print(newline, \"\\n\")\n",
    "    Lattice_new.write(newline)\n",
    "    \n",
    "os.remove(\"RHIC_Blue_center.lat\")\n",
    "Lattice_new = open(\"RHIC_Blue_center.lat\", \"w\")\n",
    "with open('RHIC_Blue.lat') as Lattice_old:\n",
    "    Lines = Lattice_old.readlines()\n",
    "    \n",
    "    L0_new = Lines[0].replace('exit', 'center')\n",
    "    Lattice_new.write(L0_new)\n",
    "    \n",
    "    for i, line in enumerate(Lines[1:]):\n",
    "        # Center SBENDS\n",
    "        length = 0\n",
    "        if 'dh' in line and 'e' not in line:\n",
    "            if 'dhx' in line: length = 3.70021937559\n",
    "            elif 'dh0' in line: length = 3.58896623069\n",
    "            elif 'dh5' in line:\n",
    "                if 'bo' in line: length = 8.69844937519\n",
    "                else: length = 6.91599988053\n",
    "            elif 'dh6' in line or 'dh9' in line: length = 2.94942686017\n",
    "            else: length = 9.440656\n",
    "            \n",
    "        # Center QUADS\n",
    "        elif 'qf' in line or 'qd' in line or 'tq' in line:\n",
    "            if 'tq' in line: length = .75\n",
    "            elif 'qf7' in line or 'qd7' in line: length = 0.929744\n",
    "            elif 'qf4' in line or 'qd4' in line: length = 1.811949\n",
    "            elif 'qf3:' in line or 'qd3:' in line: length = 2.100484\n",
    "            elif 'qf2:' in line or 'qd2:' in line: length = 3.391633\n",
    "            elif 'qf1:' in line or 'qd1:' in line: length = 1.44\n",
    "            else: length = 1.11\n",
    "            \n",
    "        # Center SEXTUPOLES\n",
    "        elif 'sx' in line: length = .75\n",
    "        \n",
    "        # Center Kickers\n",
    "        elif 'xki' in line: length = .8\n",
    "        elif 'dac' in line: length = 1.0\n",
    "        elif 'th3.' in line: length = 1.83\n",
    "        elif 'ka' in line: length = 1.22\n",
    "            \n",
    "        if length == 0: Lattice_new.write(line)\n",
    "        else: move_to_center(line, length)\n",
    "        \n",
    "Lattice_old.close()\n",
    "Lattice_new.close()"
   ]
  },
  {
   "cell_type": "code",
   "execution_count": 69,
   "id": "28f899db",
   "metadata": {},
   "outputs": [
    {
     "name": "stdout",
     "output_type": "stream",
     "text": [
      "1204.77505216881\n",
      "1213.0546021688\n"
     ]
    }
   ],
   "source": [
    "print(1204.77505216881)\n",
    "print(1213.5546021688 - 1/2)"
   ]
  },
  {
   "cell_type": "code",
   "execution_count": null,
   "id": "0e4ee090",
   "metadata": {},
   "outputs": [],
   "source": []
  }
 ],
 "metadata": {
  "kernelspec": {
   "display_name": "Python 3 (ipykernel)",
   "language": "python",
   "name": "python3"
  },
  "language_info": {
   "codemirror_mode": {
    "name": "ipython",
    "version": 3
   },
   "file_extension": ".py",
   "mimetype": "text/x-python",
   "name": "python",
   "nbconvert_exporter": "python",
   "pygments_lexer": "ipython3",
   "version": "3.9.2"
  }
 },
 "nbformat": 4,
 "nbformat_minor": 5
}
